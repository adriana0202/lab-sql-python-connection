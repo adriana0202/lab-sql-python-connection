{
 "cells": [
  {
   "cell_type": "code",
   "execution_count": null,
   "id": "e57d164a",
   "metadata": {},
   "outputs": [],
   "source": [
    "# ! pip install sqlalchemy\n",
    "# ! pip install pymysql"
   ]
  },
  {
   "cell_type": "code",
   "execution_count": 21,
   "id": "09c0cd1c-3fa1-4907-af25-545a3b73a7ab",
   "metadata": {},
   "outputs": [],
   "source": [
    "import pandas as pd\n",
    "from sqlalchemy import create_engine \n",
    "import pymysql.cursors\n",
    "import os\n",
    "import getpass\n",
    "import urllib.parse"
   ]
  },
  {
   "cell_type": "code",
   "execution_count": 22,
   "id": "fbc4b5cd",
   "metadata": {},
   "outputs": [
    {
     "data": {
      "text/plain": [
       "'%21'"
      ]
     },
     "execution_count": 22,
     "metadata": {},
     "output_type": "execute_result"
    }
   ],
   "source": [
    "urllib.parse.quote_plus('!')"
   ]
  },
  {
   "cell_type": "code",
   "execution_count": 23,
   "id": "bf9e3db5",
   "metadata": {},
   "outputs": [
    {
     "data": {
      "text/plain": [
       "'%C3%A9'"
      ]
     },
     "execution_count": 23,
     "metadata": {},
     "output_type": "execute_result"
    }
   ],
   "source": [
    "urllib.parse.quote_plus('é')"
   ]
  },
  {
   "cell_type": "code",
   "execution_count": 24,
   "id": "ea3d830a",
   "metadata": {},
   "outputs": [],
   "source": [
    "pw_raw = os.getenv('sql')"
   ]
  },
  {
   "cell_type": "code",
   "execution_count": 25,
   "id": "85ed0ec2-00c7-4a13-b66e-813ab6d94bba",
   "metadata": {},
   "outputs": [],
   "source": [
    "pw = urllib.parse.quote_plus(pw_raw)"
   ]
  },
  {
   "cell_type": "code",
   "execution_count": 26,
   "id": "ade5e339-1008-43b7-87bb-6f40c67a2c55",
   "metadata": {},
   "outputs": [],
   "source": [
    "#engine = sqlalchemy.create_engine(f\"mysql://{username}:{password}@{host}:{port}\")\n",
    "\n",
    "connection_string = 'mysql+pymysql://root:' + pw + '@localhost:3306/'\n",
    "engine = create_engine(connection_string)"
   ]
  },
  {
   "cell_type": "code",
   "execution_count": 27,
   "id": "e02f4a7f-7535-4048-8385-fd9879423c9c",
   "metadata": {},
   "outputs": [],
   "source": [
    "with engine.connect() as conn:\n",
    "    conn.execute(f\"CREATE DATABASE IF NOT EXISTS sakila\")"
   ]
  },
  {
   "cell_type": "code",
   "execution_count": 8,
   "id": "db6c77c7-9965-4563-811e-ceb59d7454f9",
   "metadata": {},
   "outputs": [],
   "source": [
    "df = pd.DataFrame({'Column1':[12,23,45]})"
   ]
  },
  {
   "cell_type": "code",
   "execution_count": 9,
   "id": "1ccee13c-d8af-476b-828a-0ff759ee85f7",
   "metadata": {},
   "outputs": [
    {
     "data": {
      "text/html": [
       "<div>\n",
       "<style scoped>\n",
       "    .dataframe tbody tr th:only-of-type {\n",
       "        vertical-align: middle;\n",
       "    }\n",
       "\n",
       "    .dataframe tbody tr th {\n",
       "        vertical-align: top;\n",
       "    }\n",
       "\n",
       "    .dataframe thead th {\n",
       "        text-align: right;\n",
       "    }\n",
       "</style>\n",
       "<table border=\"1\" class=\"dataframe\">\n",
       "  <thead>\n",
       "    <tr style=\"text-align: right;\">\n",
       "      <th></th>\n",
       "      <th>Column1</th>\n",
       "    </tr>\n",
       "  </thead>\n",
       "  <tbody>\n",
       "    <tr>\n",
       "      <th>0</th>\n",
       "      <td>12</td>\n",
       "    </tr>\n",
       "    <tr>\n",
       "      <th>1</th>\n",
       "      <td>23</td>\n",
       "    </tr>\n",
       "    <tr>\n",
       "      <th>2</th>\n",
       "      <td>45</td>\n",
       "    </tr>\n",
       "  </tbody>\n",
       "</table>\n",
       "</div>"
      ],
      "text/plain": [
       "   Column1\n",
       "0       12\n",
       "1       23\n",
       "2       45"
      ]
     },
     "execution_count": 9,
     "metadata": {},
     "output_type": "execute_result"
    }
   ],
   "source": [
    "df"
   ]
  },
  {
   "cell_type": "code",
   "execution_count": 10,
   "id": "ecd3e872-d607-4dac-a403-2de6f553050c",
   "metadata": {},
   "outputs": [
    {
     "data": {
      "text/plain": [
       "3"
      ]
     },
     "execution_count": 10,
     "metadata": {},
     "output_type": "execute_result"
    }
   ],
   "source": [
    "df.to_sql('our_new_table',engine, 'a_new_db_412', if_exists='replace', index=False)"
   ]
  },
  {
   "cell_type": "code",
   "execution_count": 33,
   "id": "e6b5af5c-c6c1-4e0f-b8a8-9bc6bcf53506",
   "metadata": {},
   "outputs": [],
   "source": [
    "sql = \"\"\"select *, month(rental_date) as month, year(rental_date) as year\n",
    "from sakila.rental\n",
    "group by rental_id\"\"\""
   ]
  },
  {
   "cell_type": "code",
   "execution_count": null,
   "id": "221388f8-dc41-45d1-b4da-fa875608caa4",
   "metadata": {},
   "outputs": [],
   "source": [
    "rental_df = pd.read_sql_query(sql, engine)\n",
    "rental_df"
   ]
  },
  {
   "cell_type": "code",
   "execution_count": null,
   "id": "023f7964",
   "metadata": {},
   "outputs": [],
   "source": [
    "# Write a Python function called rentals_month that retrieves rental data for \n",
    "# a given month and year (passed as parameters) from the Sakila database as a Pandas DataFrame. \n",
    "# The function should take in three parameters:\n",
    "\n",
    "# engine: an object representing the database connection engine to be used to establish \n",
    "# a connection to the Sakila database.\n",
    "# month: an integer representing the month for which rental data is to be retrieved.\n",
    "# year: an integer representing the year for which rental data is to be retrieved.\n",
    "# The function should execute a SQL query to retrieve the rental data for the \n",
    "# specified month and year from the rental table in the Sakila database, and return it as a pandas DataFrame."
   ]
  },
  {
   "cell_type": "code",
   "execution_count": 80,
   "id": "d20da66f",
   "metadata": {},
   "outputs": [],
   "source": [
    "def rentals_month(engine, month, year):\n",
    "    sql = f\"\"\"select *, month(rental_date) 'month', year(rental_date)'year'\n",
    "    from sakila.rental\n",
    "    where month(rental_date) = {month}\n",
    "    and year(rental_date) = {year}\n",
    "    \"\"\"\n",
    "    rental_df = pd.read_sql_query(sql, engine)\n",
    "    return rental_df"
   ]
  },
  {
   "cell_type": "code",
   "execution_count": 81,
   "id": "ecb00dd3",
   "metadata": {
    "scrolled": true
   },
   "outputs": [
    {
     "data": {
      "text/html": [
       "<div>\n",
       "<style scoped>\n",
       "    .dataframe tbody tr th:only-of-type {\n",
       "        vertical-align: middle;\n",
       "    }\n",
       "\n",
       "    .dataframe tbody tr th {\n",
       "        vertical-align: top;\n",
       "    }\n",
       "\n",
       "    .dataframe thead th {\n",
       "        text-align: right;\n",
       "    }\n",
       "</style>\n",
       "<table border=\"1\" class=\"dataframe\">\n",
       "  <thead>\n",
       "    <tr style=\"text-align: right;\">\n",
       "      <th></th>\n",
       "      <th>rental_id</th>\n",
       "      <th>rental_date</th>\n",
       "      <th>inventory_id</th>\n",
       "      <th>customer_id</th>\n",
       "      <th>return_date</th>\n",
       "      <th>staff_id</th>\n",
       "      <th>last_update</th>\n",
       "      <th>month</th>\n",
       "      <th>year</th>\n",
       "    </tr>\n",
       "  </thead>\n",
       "  <tbody>\n",
       "    <tr>\n",
       "      <th>0</th>\n",
       "      <td>3470</td>\n",
       "      <td>2005-07-05 22:49:24</td>\n",
       "      <td>883</td>\n",
       "      <td>565</td>\n",
       "      <td>2005-07-07 19:36:24</td>\n",
       "      <td>1</td>\n",
       "      <td>2006-02-15 21:30:53</td>\n",
       "      <td>7</td>\n",
       "      <td>2005</td>\n",
       "    </tr>\n",
       "    <tr>\n",
       "      <th>1</th>\n",
       "      <td>3471</td>\n",
       "      <td>2005-07-05 22:51:44</td>\n",
       "      <td>1724</td>\n",
       "      <td>242</td>\n",
       "      <td>2005-07-13 01:38:44</td>\n",
       "      <td>2</td>\n",
       "      <td>2006-02-15 21:30:53</td>\n",
       "      <td>7</td>\n",
       "      <td>2005</td>\n",
       "    </tr>\n",
       "    <tr>\n",
       "      <th>2</th>\n",
       "      <td>3472</td>\n",
       "      <td>2005-07-05 22:56:33</td>\n",
       "      <td>841</td>\n",
       "      <td>37</td>\n",
       "      <td>2005-07-13 17:18:33</td>\n",
       "      <td>2</td>\n",
       "      <td>2006-02-15 21:30:53</td>\n",
       "      <td>7</td>\n",
       "      <td>2005</td>\n",
       "    </tr>\n",
       "    <tr>\n",
       "      <th>3</th>\n",
       "      <td>3473</td>\n",
       "      <td>2005-07-05 22:57:34</td>\n",
       "      <td>2735</td>\n",
       "      <td>60</td>\n",
       "      <td>2005-07-12 23:53:34</td>\n",
       "      <td>1</td>\n",
       "      <td>2006-02-15 21:30:53</td>\n",
       "      <td>7</td>\n",
       "      <td>2005</td>\n",
       "    </tr>\n",
       "    <tr>\n",
       "      <th>4</th>\n",
       "      <td>3474</td>\n",
       "      <td>2005-07-05 22:59:53</td>\n",
       "      <td>97</td>\n",
       "      <td>594</td>\n",
       "      <td>2005-07-08 20:32:53</td>\n",
       "      <td>1</td>\n",
       "      <td>2006-02-15 21:30:53</td>\n",
       "      <td>7</td>\n",
       "      <td>2005</td>\n",
       "    </tr>\n",
       "    <tr>\n",
       "      <th>...</th>\n",
       "      <td>...</td>\n",
       "      <td>...</td>\n",
       "      <td>...</td>\n",
       "      <td>...</td>\n",
       "      <td>...</td>\n",
       "      <td>...</td>\n",
       "      <td>...</td>\n",
       "      <td>...</td>\n",
       "      <td>...</td>\n",
       "    </tr>\n",
       "    <tr>\n",
       "      <th>6704</th>\n",
       "      <td>10176</td>\n",
       "      <td>2005-07-31 23:40:35</td>\n",
       "      <td>1181</td>\n",
       "      <td>19</td>\n",
       "      <td>2005-08-09 00:46:35</td>\n",
       "      <td>2</td>\n",
       "      <td>2006-02-15 21:30:53</td>\n",
       "      <td>7</td>\n",
       "      <td>2005</td>\n",
       "    </tr>\n",
       "    <tr>\n",
       "      <th>6705</th>\n",
       "      <td>10177</td>\n",
       "      <td>2005-07-31 23:42:33</td>\n",
       "      <td>2242</td>\n",
       "      <td>279</td>\n",
       "      <td>2005-08-03 01:30:33</td>\n",
       "      <td>2</td>\n",
       "      <td>2006-02-15 21:30:53</td>\n",
       "      <td>7</td>\n",
       "      <td>2005</td>\n",
       "    </tr>\n",
       "    <tr>\n",
       "      <th>6706</th>\n",
       "      <td>10178</td>\n",
       "      <td>2005-07-31 23:43:04</td>\n",
       "      <td>1582</td>\n",
       "      <td>491</td>\n",
       "      <td>2005-08-03 00:43:04</td>\n",
       "      <td>1</td>\n",
       "      <td>2006-02-15 21:30:53</td>\n",
       "      <td>7</td>\n",
       "      <td>2005</td>\n",
       "    </tr>\n",
       "    <tr>\n",
       "      <th>6707</th>\n",
       "      <td>10179</td>\n",
       "      <td>2005-07-31 23:49:54</td>\n",
       "      <td>2136</td>\n",
       "      <td>131</td>\n",
       "      <td>2005-08-01 20:46:54</td>\n",
       "      <td>2</td>\n",
       "      <td>2006-02-15 21:30:53</td>\n",
       "      <td>7</td>\n",
       "      <td>2005</td>\n",
       "    </tr>\n",
       "    <tr>\n",
       "      <th>6708</th>\n",
       "      <td>10180</td>\n",
       "      <td>2005-07-31 23:57:43</td>\n",
       "      <td>757</td>\n",
       "      <td>50</td>\n",
       "      <td>2005-08-09 04:04:43</td>\n",
       "      <td>2</td>\n",
       "      <td>2006-02-15 21:30:53</td>\n",
       "      <td>7</td>\n",
       "      <td>2005</td>\n",
       "    </tr>\n",
       "  </tbody>\n",
       "</table>\n",
       "<p>6709 rows × 9 columns</p>\n",
       "</div>"
      ],
      "text/plain": [
       "      rental_id         rental_date  inventory_id  customer_id  \\\n",
       "0          3470 2005-07-05 22:49:24           883          565   \n",
       "1          3471 2005-07-05 22:51:44          1724          242   \n",
       "2          3472 2005-07-05 22:56:33           841           37   \n",
       "3          3473 2005-07-05 22:57:34          2735           60   \n",
       "4          3474 2005-07-05 22:59:53            97          594   \n",
       "...         ...                 ...           ...          ...   \n",
       "6704      10176 2005-07-31 23:40:35          1181           19   \n",
       "6705      10177 2005-07-31 23:42:33          2242          279   \n",
       "6706      10178 2005-07-31 23:43:04          1582          491   \n",
       "6707      10179 2005-07-31 23:49:54          2136          131   \n",
       "6708      10180 2005-07-31 23:57:43           757           50   \n",
       "\n",
       "             return_date  staff_id         last_update  month  year  \n",
       "0    2005-07-07 19:36:24         1 2006-02-15 21:30:53      7  2005  \n",
       "1    2005-07-13 01:38:44         2 2006-02-15 21:30:53      7  2005  \n",
       "2    2005-07-13 17:18:33         2 2006-02-15 21:30:53      7  2005  \n",
       "3    2005-07-12 23:53:34         1 2006-02-15 21:30:53      7  2005  \n",
       "4    2005-07-08 20:32:53         1 2006-02-15 21:30:53      7  2005  \n",
       "...                  ...       ...                 ...    ...   ...  \n",
       "6704 2005-08-09 00:46:35         2 2006-02-15 21:30:53      7  2005  \n",
       "6705 2005-08-03 01:30:33         2 2006-02-15 21:30:53      7  2005  \n",
       "6706 2005-08-03 00:43:04         1 2006-02-15 21:30:53      7  2005  \n",
       "6707 2005-08-01 20:46:54         2 2006-02-15 21:30:53      7  2005  \n",
       "6708 2005-08-09 04:04:43         2 2006-02-15 21:30:53      7  2005  \n",
       "\n",
       "[6709 rows x 9 columns]"
      ]
     },
     "execution_count": 81,
     "metadata": {},
     "output_type": "execute_result"
    }
   ],
   "source": [
    "rentals_month(engine,7,2005)"
   ]
  },
  {
   "cell_type": "code",
   "execution_count": 148,
   "id": "bafb19b4",
   "metadata": {},
   "outputs": [],
   "source": [
    "# Develop a Python function called rental_count_month that takes the DataFrame \n",
    "# provided by rentals_month as input along with the month and year and returns \n",
    "# a new DataFrame containing the number of rentals made by each customer_id during the selected month and year.\n",
    "# The function should also include the month and year as parameters and use them to name \n",
    "# the new column according to the month and year, for example, if the input month is 05 and the year is 2005, \n",
    "# the column name should be \"rentals_05_2005\".\n",
    "\n",
    "# Hint: Consider making use of pandas groupby()\n",
    "rentals_month(engine,7,2005)\n",
    "def rental_count_month(engine, month, year):\n",
    "    df = rentals_month(engine, f'{month}', f'{year}')\n",
    "    serie_counts=df['customer_id'].value_counts()\n",
    "    df1 = pd.DataFrame(serie_counts).reset_index()\n",
    "    return df1"
   ]
  },
  {
   "cell_type": "code",
   "execution_count": 153,
   "id": "d2f0af53",
   "metadata": {},
   "outputs": [
    {
     "data": {
      "text/html": [
       "<div>\n",
       "<style scoped>\n",
       "    .dataframe tbody tr th:only-of-type {\n",
       "        vertical-align: middle;\n",
       "    }\n",
       "\n",
       "    .dataframe tbody tr th {\n",
       "        vertical-align: top;\n",
       "    }\n",
       "\n",
       "    .dataframe thead th {\n",
       "        text-align: right;\n",
       "    }\n",
       "</style>\n",
       "<table border=\"1\" class=\"dataframe\">\n",
       "  <thead>\n",
       "    <tr style=\"text-align: right;\">\n",
       "      <th></th>\n",
       "      <th>customer_id</th>\n",
       "      <th>count</th>\n",
       "    </tr>\n",
       "  </thead>\n",
       "  <tbody>\n",
       "    <tr>\n",
       "      <th>0</th>\n",
       "      <td>197</td>\n",
       "      <td>8</td>\n",
       "    </tr>\n",
       "    <tr>\n",
       "      <th>1</th>\n",
       "      <td>109</td>\n",
       "      <td>7</td>\n",
       "    </tr>\n",
       "    <tr>\n",
       "      <th>2</th>\n",
       "      <td>506</td>\n",
       "      <td>7</td>\n",
       "    </tr>\n",
       "    <tr>\n",
       "      <th>3</th>\n",
       "      <td>371</td>\n",
       "      <td>6</td>\n",
       "    </tr>\n",
       "    <tr>\n",
       "      <th>4</th>\n",
       "      <td>161</td>\n",
       "      <td>6</td>\n",
       "    </tr>\n",
       "    <tr>\n",
       "      <th>...</th>\n",
       "      <td>...</td>\n",
       "      <td>...</td>\n",
       "    </tr>\n",
       "    <tr>\n",
       "      <th>515</th>\n",
       "      <td>590</td>\n",
       "      <td>1</td>\n",
       "    </tr>\n",
       "    <tr>\n",
       "      <th>516</th>\n",
       "      <td>537</td>\n",
       "      <td>1</td>\n",
       "    </tr>\n",
       "    <tr>\n",
       "      <th>517</th>\n",
       "      <td>426</td>\n",
       "      <td>1</td>\n",
       "    </tr>\n",
       "    <tr>\n",
       "      <th>518</th>\n",
       "      <td>494</td>\n",
       "      <td>1</td>\n",
       "    </tr>\n",
       "    <tr>\n",
       "      <th>519</th>\n",
       "      <td>61</td>\n",
       "      <td>1</td>\n",
       "    </tr>\n",
       "  </tbody>\n",
       "</table>\n",
       "<p>520 rows × 2 columns</p>\n",
       "</div>"
      ],
      "text/plain": [
       "     customer_id  count\n",
       "0            197      8\n",
       "1            109      7\n",
       "2            506      7\n",
       "3            371      6\n",
       "4            161      6\n",
       "..           ...    ...\n",
       "515          590      1\n",
       "516          537      1\n",
       "517          426      1\n",
       "518          494      1\n",
       "519           61      1\n",
       "\n",
       "[520 rows x 2 columns]"
      ]
     },
     "execution_count": 153,
     "metadata": {},
     "output_type": "execute_result"
    }
   ],
   "source": [
    "df2=rental_count_month(engine, 5, 2005)\n",
    "df2"
   ]
  },
  {
   "cell_type": "code",
   "execution_count": null,
   "id": "683b7257",
   "metadata": {},
   "outputs": [],
   "source": [
    "# Create a Python function called compare_rentals that takes two DataFrames as input \n",
    "# containing the number of rentals made by each customer in different months and years. \n",
    "# The function should return a combined DataFrame with a new 'difference' column, \n",
    "# which is the difference between the number of rentals in the two months.\n",
    "\n",
    "\n",
    "def compare_rentals(engine,df2,df3)\n",
    "    df2="
   ]
  },
  {
   "cell_type": "code",
   "execution_count": null,
   "id": "c840dd4f",
   "metadata": {},
   "outputs": [],
   "source": [
    "new_df2 = pd.read_sql_table('payments',engine,'classicmodels')\n",
    "new_df2"
   ]
  }
 ],
 "metadata": {
  "kernelspec": {
   "display_name": "Python 3 (ipykernel)",
   "language": "python",
   "name": "python3"
  },
  "language_info": {
   "codemirror_mode": {
    "name": "ipython",
    "version": 3
   },
   "file_extension": ".py",
   "mimetype": "text/x-python",
   "name": "python",
   "nbconvert_exporter": "python",
   "pygments_lexer": "ipython3",
   "version": "3.11.5"
  }
 },
 "nbformat": 4,
 "nbformat_minor": 5
}
